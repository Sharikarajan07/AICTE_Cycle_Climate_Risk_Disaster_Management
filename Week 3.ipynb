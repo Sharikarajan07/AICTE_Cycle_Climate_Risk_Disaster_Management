{
  "nbformat": 4,
  "nbformat_minor": 0,
  "metadata": {
    "colab": {
      "provenance": []
    },
    "kernelspec": {
      "name": "python3",
      "display_name": "Python 3"
    },
    "language_info": {
      "name": "python"
    }
  },
  "cells": [
    {
      "cell_type": "markdown",
      "source": [
        "📌 **Week 3: Predictive Modeling**"
      ],
      "metadata": {
        "id": "so56c5jHpx8s"
      }
    },
    {
      "cell_type": "code",
      "execution_count": 2,
      "metadata": {
        "id": "FVGf18eFMPMr"
      },
      "outputs": [],
      "source": [
        "import pandas as pd\n",
        "import numpy as np\n",
        "import matplotlib.pyplot as plt\n",
        "import seaborn as sns\n",
        "from sklearn.model_selection import train_test_split, cross_val_score\n",
        "from sklearn.metrics import accuracy_score, classification_report, confusion_matrix\n",
        "from sklearn.ensemble import RandomForestClassifier\n",
        "from sklearn.linear_model import LogisticRegression\n",
        "from sklearn.svm import SVC"
      ]
    },
    {
      "cell_type": "markdown",
      "source": [
        " **📌 Load processed dataset from Week 2**"
      ],
      "metadata": {
        "id": "CrPpKDd-qM_F"
      }
    },
    {
      "cell_type": "code",
      "source": [
        "DATA_PATH = \"/content/drive/MyDrive/1900_2021_DISASTERS_cleaned.csv\"\n",
        "df = pd.read_csv(DATA_PATH)"
      ],
      "metadata": {
        "id": "ogiewUa-MY4U"
      },
      "execution_count": 3,
      "outputs": []
    },
    {
      "cell_type": "code",
      "source": [
        "print(\"✅ Dataset loaded for Week 3:\", df.shape)\n",
        "df.head()"
      ],
      "metadata": {
        "id": "8dL2dK95M5ft",
        "colab": {
          "base_uri": "https://localhost:8080/",
          "height": 585
        },
        "outputId": "495de4f8-c440-4d89-f5ae-953869889fc2"
      },
      "execution_count": 4,
      "outputs": [
        {
          "output_type": "stream",
          "name": "stdout",
          "text": [
            "✅ Dataset loaded for Week 3: (16126, 45)\n"
          ]
        },
        {
          "output_type": "execute_result",
          "data": {
            "text/plain": [
              "   Year   Seq           Glide Disaster Group Disaster Subgroup  \\\n",
              "0  1900  9002  CW-2012-000006        Natural    Climatological   \n",
              "1  1900  9001  CW-2012-000006        Natural    Climatological   \n",
              "2  1902    12  CW-2012-000006        Natural       Geophysical   \n",
              "3  1902     3  CW-2012-000006        Natural       Geophysical   \n",
              "4  1902    10  CW-2012-000006        Natural       Geophysical   \n",
              "\n",
              "       Disaster Type Disaster Subtype Disaster Subsubtype   Event Name  \\\n",
              "0            Drought          Drought             Tornado      Cholera   \n",
              "1            Drought          Drought             Tornado      Cholera   \n",
              "2         Earthquake  Ground movement             Tornado      Cholera   \n",
              "3  Volcanic activity         Ash fall             Tornado  Santa Maria   \n",
              "4  Volcanic activity         Ash fall             Tornado  Santa Maria   \n",
              "\n",
              "      Country  ... No Affected No Homeless Total Affected  \\\n",
              "0  Cabo Verde  ...     10000.0      3000.0         5965.0   \n",
              "1       India  ...     10000.0      3000.0         5965.0   \n",
              "2   Guatemala  ...     10000.0      3000.0         5965.0   \n",
              "3   Guatemala  ...     10000.0      3000.0         5965.0   \n",
              "4   Guatemala  ...     10000.0      3000.0         5965.0   \n",
              "\n",
              "  Insured Damages ('000 US$) Total Damages ('000 US$)       CPI Adm Level  \\\n",
              "0                   172500.0                  60000.0  3.221647         1   \n",
              "1                   172500.0                  60000.0  3.221647         1   \n",
              "2                   172500.0                  25000.0  3.350513         1   \n",
              "3                   172500.0                  60000.0  3.350513         1   \n",
              "4                   172500.0                  60000.0  3.350513         1   \n",
              "\n",
              "  Admin1 Code Admin2 Code                               Geo Locations  \n",
              "0         925       13306  Administrative unit not available (Adm1).   \n",
              "1         925       13306  Administrative unit not available (Adm1).   \n",
              "2         925       13306  Administrative unit not available (Adm1).   \n",
              "3         925       13306  Administrative unit not available (Adm1).   \n",
              "4         925       13306  Administrative unit not available (Adm1).   \n",
              "\n",
              "[5 rows x 45 columns]"
            ],
            "text/html": [
              "\n",
              "  <div id=\"df-fab9887d-f072-4628-997b-0582b0af5f72\" class=\"colab-df-container\">\n",
              "    <div>\n",
              "<style scoped>\n",
              "    .dataframe tbody tr th:only-of-type {\n",
              "        vertical-align: middle;\n",
              "    }\n",
              "\n",
              "    .dataframe tbody tr th {\n",
              "        vertical-align: top;\n",
              "    }\n",
              "\n",
              "    .dataframe thead th {\n",
              "        text-align: right;\n",
              "    }\n",
              "</style>\n",
              "<table border=\"1\" class=\"dataframe\">\n",
              "  <thead>\n",
              "    <tr style=\"text-align: right;\">\n",
              "      <th></th>\n",
              "      <th>Year</th>\n",
              "      <th>Seq</th>\n",
              "      <th>Glide</th>\n",
              "      <th>Disaster Group</th>\n",
              "      <th>Disaster Subgroup</th>\n",
              "      <th>Disaster Type</th>\n",
              "      <th>Disaster Subtype</th>\n",
              "      <th>Disaster Subsubtype</th>\n",
              "      <th>Event Name</th>\n",
              "      <th>Country</th>\n",
              "      <th>...</th>\n",
              "      <th>No Affected</th>\n",
              "      <th>No Homeless</th>\n",
              "      <th>Total Affected</th>\n",
              "      <th>Insured Damages ('000 US$)</th>\n",
              "      <th>Total Damages ('000 US$)</th>\n",
              "      <th>CPI</th>\n",
              "      <th>Adm Level</th>\n",
              "      <th>Admin1 Code</th>\n",
              "      <th>Admin2 Code</th>\n",
              "      <th>Geo Locations</th>\n",
              "    </tr>\n",
              "  </thead>\n",
              "  <tbody>\n",
              "    <tr>\n",
              "      <th>0</th>\n",
              "      <td>1900</td>\n",
              "      <td>9002</td>\n",
              "      <td>CW-2012-000006</td>\n",
              "      <td>Natural</td>\n",
              "      <td>Climatological</td>\n",
              "      <td>Drought</td>\n",
              "      <td>Drought</td>\n",
              "      <td>Tornado</td>\n",
              "      <td>Cholera</td>\n",
              "      <td>Cabo Verde</td>\n",
              "      <td>...</td>\n",
              "      <td>10000.0</td>\n",
              "      <td>3000.0</td>\n",
              "      <td>5965.0</td>\n",
              "      <td>172500.0</td>\n",
              "      <td>60000.0</td>\n",
              "      <td>3.221647</td>\n",
              "      <td>1</td>\n",
              "      <td>925</td>\n",
              "      <td>13306</td>\n",
              "      <td>Administrative unit not available (Adm1).</td>\n",
              "    </tr>\n",
              "    <tr>\n",
              "      <th>1</th>\n",
              "      <td>1900</td>\n",
              "      <td>9001</td>\n",
              "      <td>CW-2012-000006</td>\n",
              "      <td>Natural</td>\n",
              "      <td>Climatological</td>\n",
              "      <td>Drought</td>\n",
              "      <td>Drought</td>\n",
              "      <td>Tornado</td>\n",
              "      <td>Cholera</td>\n",
              "      <td>India</td>\n",
              "      <td>...</td>\n",
              "      <td>10000.0</td>\n",
              "      <td>3000.0</td>\n",
              "      <td>5965.0</td>\n",
              "      <td>172500.0</td>\n",
              "      <td>60000.0</td>\n",
              "      <td>3.221647</td>\n",
              "      <td>1</td>\n",
              "      <td>925</td>\n",
              "      <td>13306</td>\n",
              "      <td>Administrative unit not available (Adm1).</td>\n",
              "    </tr>\n",
              "    <tr>\n",
              "      <th>2</th>\n",
              "      <td>1902</td>\n",
              "      <td>12</td>\n",
              "      <td>CW-2012-000006</td>\n",
              "      <td>Natural</td>\n",
              "      <td>Geophysical</td>\n",
              "      <td>Earthquake</td>\n",
              "      <td>Ground movement</td>\n",
              "      <td>Tornado</td>\n",
              "      <td>Cholera</td>\n",
              "      <td>Guatemala</td>\n",
              "      <td>...</td>\n",
              "      <td>10000.0</td>\n",
              "      <td>3000.0</td>\n",
              "      <td>5965.0</td>\n",
              "      <td>172500.0</td>\n",
              "      <td>25000.0</td>\n",
              "      <td>3.350513</td>\n",
              "      <td>1</td>\n",
              "      <td>925</td>\n",
              "      <td>13306</td>\n",
              "      <td>Administrative unit not available (Adm1).</td>\n",
              "    </tr>\n",
              "    <tr>\n",
              "      <th>3</th>\n",
              "      <td>1902</td>\n",
              "      <td>3</td>\n",
              "      <td>CW-2012-000006</td>\n",
              "      <td>Natural</td>\n",
              "      <td>Geophysical</td>\n",
              "      <td>Volcanic activity</td>\n",
              "      <td>Ash fall</td>\n",
              "      <td>Tornado</td>\n",
              "      <td>Santa Maria</td>\n",
              "      <td>Guatemala</td>\n",
              "      <td>...</td>\n",
              "      <td>10000.0</td>\n",
              "      <td>3000.0</td>\n",
              "      <td>5965.0</td>\n",
              "      <td>172500.0</td>\n",
              "      <td>60000.0</td>\n",
              "      <td>3.350513</td>\n",
              "      <td>1</td>\n",
              "      <td>925</td>\n",
              "      <td>13306</td>\n",
              "      <td>Administrative unit not available (Adm1).</td>\n",
              "    </tr>\n",
              "    <tr>\n",
              "      <th>4</th>\n",
              "      <td>1902</td>\n",
              "      <td>10</td>\n",
              "      <td>CW-2012-000006</td>\n",
              "      <td>Natural</td>\n",
              "      <td>Geophysical</td>\n",
              "      <td>Volcanic activity</td>\n",
              "      <td>Ash fall</td>\n",
              "      <td>Tornado</td>\n",
              "      <td>Santa Maria</td>\n",
              "      <td>Guatemala</td>\n",
              "      <td>...</td>\n",
              "      <td>10000.0</td>\n",
              "      <td>3000.0</td>\n",
              "      <td>5965.0</td>\n",
              "      <td>172500.0</td>\n",
              "      <td>60000.0</td>\n",
              "      <td>3.350513</td>\n",
              "      <td>1</td>\n",
              "      <td>925</td>\n",
              "      <td>13306</td>\n",
              "      <td>Administrative unit not available (Adm1).</td>\n",
              "    </tr>\n",
              "  </tbody>\n",
              "</table>\n",
              "<p>5 rows × 45 columns</p>\n",
              "</div>\n",
              "    <div class=\"colab-df-buttons\">\n",
              "\n",
              "  <div class=\"colab-df-container\">\n",
              "    <button class=\"colab-df-convert\" onclick=\"convertToInteractive('df-fab9887d-f072-4628-997b-0582b0af5f72')\"\n",
              "            title=\"Convert this dataframe to an interactive table.\"\n",
              "            style=\"display:none;\">\n",
              "\n",
              "  <svg xmlns=\"http://www.w3.org/2000/svg\" height=\"24px\" viewBox=\"0 -960 960 960\">\n",
              "    <path d=\"M120-120v-720h720v720H120Zm60-500h600v-160H180v160Zm220 220h160v-160H400v160Zm0 220h160v-160H400v160ZM180-400h160v-160H180v160Zm440 0h160v-160H620v160ZM180-180h160v-160H180v160Zm440 0h160v-160H620v160Z\"/>\n",
              "  </svg>\n",
              "    </button>\n",
              "\n",
              "  <style>\n",
              "    .colab-df-container {\n",
              "      display:flex;\n",
              "      gap: 12px;\n",
              "    }\n",
              "\n",
              "    .colab-df-convert {\n",
              "      background-color: #E8F0FE;\n",
              "      border: none;\n",
              "      border-radius: 50%;\n",
              "      cursor: pointer;\n",
              "      display: none;\n",
              "      fill: #1967D2;\n",
              "      height: 32px;\n",
              "      padding: 0 0 0 0;\n",
              "      width: 32px;\n",
              "    }\n",
              "\n",
              "    .colab-df-convert:hover {\n",
              "      background-color: #E2EBFA;\n",
              "      box-shadow: 0px 1px 2px rgba(60, 64, 67, 0.3), 0px 1px 3px 1px rgba(60, 64, 67, 0.15);\n",
              "      fill: #174EA6;\n",
              "    }\n",
              "\n",
              "    .colab-df-buttons div {\n",
              "      margin-bottom: 4px;\n",
              "    }\n",
              "\n",
              "    [theme=dark] .colab-df-convert {\n",
              "      background-color: #3B4455;\n",
              "      fill: #D2E3FC;\n",
              "    }\n",
              "\n",
              "    [theme=dark] .colab-df-convert:hover {\n",
              "      background-color: #434B5C;\n",
              "      box-shadow: 0px 1px 3px 1px rgba(0, 0, 0, 0.15);\n",
              "      filter: drop-shadow(0px 1px 2px rgba(0, 0, 0, 0.3));\n",
              "      fill: #FFFFFF;\n",
              "    }\n",
              "  </style>\n",
              "\n",
              "    <script>\n",
              "      const buttonEl =\n",
              "        document.querySelector('#df-fab9887d-f072-4628-997b-0582b0af5f72 button.colab-df-convert');\n",
              "      buttonEl.style.display =\n",
              "        google.colab.kernel.accessAllowed ? 'block' : 'none';\n",
              "\n",
              "      async function convertToInteractive(key) {\n",
              "        const element = document.querySelector('#df-fab9887d-f072-4628-997b-0582b0af5f72');\n",
              "        const dataTable =\n",
              "          await google.colab.kernel.invokeFunction('convertToInteractive',\n",
              "                                                    [key], {});\n",
              "        if (!dataTable) return;\n",
              "\n",
              "        const docLinkHtml = 'Like what you see? Visit the ' +\n",
              "          '<a target=\"_blank\" href=https://colab.research.google.com/notebooks/data_table.ipynb>data table notebook</a>'\n",
              "          + ' to learn more about interactive tables.';\n",
              "        element.innerHTML = '';\n",
              "        dataTable['output_type'] = 'display_data';\n",
              "        await google.colab.output.renderOutput(dataTable, element);\n",
              "        const docLink = document.createElement('div');\n",
              "        docLink.innerHTML = docLinkHtml;\n",
              "        element.appendChild(docLink);\n",
              "      }\n",
              "    </script>\n",
              "  </div>\n",
              "\n",
              "\n",
              "    <div id=\"df-8b5dd4d2-62f3-4a8c-8557-42d47c2f1031\">\n",
              "      <button class=\"colab-df-quickchart\" onclick=\"quickchart('df-8b5dd4d2-62f3-4a8c-8557-42d47c2f1031')\"\n",
              "                title=\"Suggest charts\"\n",
              "                style=\"display:none;\">\n",
              "\n",
              "<svg xmlns=\"http://www.w3.org/2000/svg\" height=\"24px\"viewBox=\"0 0 24 24\"\n",
              "     width=\"24px\">\n",
              "    <g>\n",
              "        <path d=\"M19 3H5c-1.1 0-2 .9-2 2v14c0 1.1.9 2 2 2h14c1.1 0 2-.9 2-2V5c0-1.1-.9-2-2-2zM9 17H7v-7h2v7zm4 0h-2V7h2v10zm4 0h-2v-4h2v4z\"/>\n",
              "    </g>\n",
              "</svg>\n",
              "      </button>\n",
              "\n",
              "<style>\n",
              "  .colab-df-quickchart {\n",
              "      --bg-color: #E8F0FE;\n",
              "      --fill-color: #1967D2;\n",
              "      --hover-bg-color: #E2EBFA;\n",
              "      --hover-fill-color: #174EA6;\n",
              "      --disabled-fill-color: #AAA;\n",
              "      --disabled-bg-color: #DDD;\n",
              "  }\n",
              "\n",
              "  [theme=dark] .colab-df-quickchart {\n",
              "      --bg-color: #3B4455;\n",
              "      --fill-color: #D2E3FC;\n",
              "      --hover-bg-color: #434B5C;\n",
              "      --hover-fill-color: #FFFFFF;\n",
              "      --disabled-bg-color: #3B4455;\n",
              "      --disabled-fill-color: #666;\n",
              "  }\n",
              "\n",
              "  .colab-df-quickchart {\n",
              "    background-color: var(--bg-color);\n",
              "    border: none;\n",
              "    border-radius: 50%;\n",
              "    cursor: pointer;\n",
              "    display: none;\n",
              "    fill: var(--fill-color);\n",
              "    height: 32px;\n",
              "    padding: 0;\n",
              "    width: 32px;\n",
              "  }\n",
              "\n",
              "  .colab-df-quickchart:hover {\n",
              "    background-color: var(--hover-bg-color);\n",
              "    box-shadow: 0 1px 2px rgba(60, 64, 67, 0.3), 0 1px 3px 1px rgba(60, 64, 67, 0.15);\n",
              "    fill: var(--button-hover-fill-color);\n",
              "  }\n",
              "\n",
              "  .colab-df-quickchart-complete:disabled,\n",
              "  .colab-df-quickchart-complete:disabled:hover {\n",
              "    background-color: var(--disabled-bg-color);\n",
              "    fill: var(--disabled-fill-color);\n",
              "    box-shadow: none;\n",
              "  }\n",
              "\n",
              "  .colab-df-spinner {\n",
              "    border: 2px solid var(--fill-color);\n",
              "    border-color: transparent;\n",
              "    border-bottom-color: var(--fill-color);\n",
              "    animation:\n",
              "      spin 1s steps(1) infinite;\n",
              "  }\n",
              "\n",
              "  @keyframes spin {\n",
              "    0% {\n",
              "      border-color: transparent;\n",
              "      border-bottom-color: var(--fill-color);\n",
              "      border-left-color: var(--fill-color);\n",
              "    }\n",
              "    20% {\n",
              "      border-color: transparent;\n",
              "      border-left-color: var(--fill-color);\n",
              "      border-top-color: var(--fill-color);\n",
              "    }\n",
              "    30% {\n",
              "      border-color: transparent;\n",
              "      border-left-color: var(--fill-color);\n",
              "      border-top-color: var(--fill-color);\n",
              "      border-right-color: var(--fill-color);\n",
              "    }\n",
              "    40% {\n",
              "      border-color: transparent;\n",
              "      border-right-color: var(--fill-color);\n",
              "      border-top-color: var(--fill-color);\n",
              "    }\n",
              "    60% {\n",
              "      border-color: transparent;\n",
              "      border-right-color: var(--fill-color);\n",
              "    }\n",
              "    80% {\n",
              "      border-color: transparent;\n",
              "      border-right-color: var(--fill-color);\n",
              "      border-bottom-color: var(--fill-color);\n",
              "    }\n",
              "    90% {\n",
              "      border-color: transparent;\n",
              "      border-bottom-color: var(--fill-color);\n",
              "    }\n",
              "  }\n",
              "</style>\n",
              "\n",
              "      <script>\n",
              "        async function quickchart(key) {\n",
              "          const quickchartButtonEl =\n",
              "            document.querySelector('#' + key + ' button');\n",
              "          quickchartButtonEl.disabled = true;  // To prevent multiple clicks.\n",
              "          quickchartButtonEl.classList.add('colab-df-spinner');\n",
              "          try {\n",
              "            const charts = await google.colab.kernel.invokeFunction(\n",
              "                'suggestCharts', [key], {});\n",
              "          } catch (error) {\n",
              "            console.error('Error during call to suggestCharts:', error);\n",
              "          }\n",
              "          quickchartButtonEl.classList.remove('colab-df-spinner');\n",
              "          quickchartButtonEl.classList.add('colab-df-quickchart-complete');\n",
              "        }\n",
              "        (() => {\n",
              "          let quickchartButtonEl =\n",
              "            document.querySelector('#df-8b5dd4d2-62f3-4a8c-8557-42d47c2f1031 button');\n",
              "          quickchartButtonEl.style.display =\n",
              "            google.colab.kernel.accessAllowed ? 'block' : 'none';\n",
              "        })();\n",
              "      </script>\n",
              "    </div>\n",
              "\n",
              "    </div>\n",
              "  </div>\n"
            ],
            "application/vnd.google.colaboratory.intrinsic+json": {
              "type": "dataframe",
              "variable_name": "df"
            }
          },
          "metadata": {},
          "execution_count": 4
        }
      ]
    },
    {
      "cell_type": "code",
      "source": [
        "# Drop ID-like columns (adjust names if different in your dataset)\n",
        "drop_cols = [\"Disaster No\", \"Dis No\", \"Year_code\", \"Event_ID\"]\n",
        "df_model = df.drop(columns=[c for c in drop_cols if c in df.columns], errors=\"ignore\")\n"
      ],
      "metadata": {
        "id": "9ount6TTRvBE"
      },
      "execution_count": 5,
      "outputs": []
    },
    {
      "cell_type": "code",
      "source": [
        "from sklearn.preprocessing import LabelEncoder\n",
        "\n",
        "df_model = df_model.copy()\n",
        "\n",
        "# Encode categorical columns except target\n",
        "cat_cols = df_model.select_dtypes(include=[\"object\"]).columns.drop(\"Disaster Type\")\n",
        "\n",
        "for col in cat_cols:\n",
        "    le = LabelEncoder()\n",
        "    df_model[col] = le.fit_transform(df_model[col].astype(str))\n",
        "    print(f\"🔑 Encoded column: {col}\")\n"
      ],
      "metadata": {
        "id": "hg05KMsdRzPl",
        "colab": {
          "base_uri": "https://localhost:8080/"
        },
        "outputId": "c489b3d6-d3c1-4a17-a44d-8a01db359560"
      },
      "execution_count": 6,
      "outputs": [
        {
          "output_type": "stream",
          "name": "stdout",
          "text": [
            "🔑 Encoded column: Glide\n",
            "🔑 Encoded column: Disaster Group\n",
            "🔑 Encoded column: Disaster Subgroup\n",
            "🔑 Encoded column: Disaster Subtype\n",
            "🔑 Encoded column: Disaster Subsubtype\n",
            "🔑 Encoded column: Event Name\n",
            "🔑 Encoded column: Country\n",
            "🔑 Encoded column: ISO\n",
            "🔑 Encoded column: Region\n",
            "🔑 Encoded column: Continent\n",
            "🔑 Encoded column: Location\n",
            "🔑 Encoded column: Origin\n",
            "🔑 Encoded column: Associated Dis\n",
            "🔑 Encoded column: Associated Dis2\n",
            "🔑 Encoded column: OFDA Response\n",
            "🔑 Encoded column: Appeal\n",
            "🔑 Encoded column: Declaration\n",
            "🔑 Encoded column: Dis Mag Scale\n",
            "🔑 Encoded column: Latitude\n",
            "🔑 Encoded column: Longitude\n",
            "🔑 Encoded column: Local Time\n",
            "🔑 Encoded column: River Basin\n",
            "🔑 Encoded column: Adm Level\n",
            "🔑 Encoded column: Admin1 Code\n",
            "🔑 Encoded column: Admin2 Code\n",
            "🔑 Encoded column: Geo Locations\n"
          ]
        }
      ]
    },
    {
      "cell_type": "code",
      "source": [
        "X = df_model.drop(\"Disaster Type\", axis=1)\n",
        "y = df_model[\"Disaster Type\"]\n",
        "\n",
        "print(\"✅ All features are now numeric:\", X.dtypes.unique())\n"
      ],
      "metadata": {
        "id": "XMzQaECHR1DU",
        "colab": {
          "base_uri": "https://localhost:8080/"
        },
        "outputId": "1abb73df-a172-4bd1-a992-173f79a5ce1f"
      },
      "execution_count": 7,
      "outputs": [
        {
          "output_type": "stream",
          "name": "stdout",
          "text": [
            "✅ All features are now numeric: [dtype('int64') dtype('float64')]\n"
          ]
        }
      ]
    },
    {
      "cell_type": "code",
      "source": [
        "# Count frequency of each class\n",
        "counts = y.value_counts()\n",
        "\n",
        "# Drop classes with less than 2 samples\n",
        "valid_classes = counts[counts >= 2].index\n",
        "X = X[y.isin(valid_classes)]\n",
        "y = y[y.isin(valid_classes)]\n"
      ],
      "metadata": {
        "id": "ZbEpS3JyouNM"
      },
      "execution_count": 8,
      "outputs": []
    },
    {
      "cell_type": "code",
      "source": [
        "counts = y.value_counts()\n",
        "y = y.apply(lambda x: x if counts[x] >= 2 else \"Other\")\n"
      ],
      "metadata": {
        "id": "bYcFArNnt6a9"
      },
      "execution_count": 9,
      "outputs": []
    },
    {
      "cell_type": "code",
      "source": [
        "# 📌 Split features & target\n",
        "# ==============================\n",
        "X_train, X_test, y_train, y_test = train_test_split(\n",
        "    X, y, test_size=0.2, random_state=42, stratify=y\n",
        ")\n",
        "\n",
        "print(\"Train:\", X_train.shape, \" Test:\", X_test.shape)"
      ],
      "metadata": {
        "colab": {
          "base_uri": "https://localhost:8080/"
        },
        "id": "vSiQCjrGqoeP",
        "outputId": "e08d469d-2a46-4693-e054-6cb3634f6335"
      },
      "execution_count": 10,
      "outputs": [
        {
          "output_type": "stream",
          "name": "stdout",
          "text": [
            "Train: (12898, 44)  Test: (3225, 44)\n"
          ]
        }
      ]
    },
    {
      "cell_type": "markdown",
      "source": [
        "** 📌 Model 1: Logistic Regression**"
      ],
      "metadata": {
        "id": "Ep6PuwpiqxjD"
      }
    },
    {
      "cell_type": "code",
      "source": [
        "from sklearn.model_selection import train_test_split\n",
        "from sklearn.linear_model import LogisticRegression\n",
        "\n",
        "X_train, X_test, y_train, y_test = train_test_split(\n",
        "    X, y, test_size=0.2, random_state=42, stratify=y\n",
        ")\n",
        "\n",
        "log_reg = LogisticRegression(max_iter=1000)\n",
        "log_reg.fit(X_train, y_train)\n",
        "print(\"✅ Logistic Regression trained successfully!\")\n"
      ],
      "metadata": {
        "id": "gAqhdXC1R4uT",
        "colab": {
          "base_uri": "https://localhost:8080/"
        },
        "outputId": "10b2892f-8abe-45ee-c1c7-535ff7fceceb"
      },
      "execution_count": 11,
      "outputs": [
        {
          "output_type": "stream",
          "name": "stdout",
          "text": [
            "✅ Logistic Regression trained successfully!\n"
          ]
        },
        {
          "output_type": "stream",
          "name": "stderr",
          "text": [
            "/usr/local/lib/python3.12/dist-packages/sklearn/linear_model/_logistic.py:465: ConvergenceWarning: lbfgs failed to converge (status=1):\n",
            "STOP: TOTAL NO. OF ITERATIONS REACHED LIMIT.\n",
            "\n",
            "Increase the number of iterations (max_iter) or scale the data as shown in:\n",
            "    https://scikit-learn.org/stable/modules/preprocessing.html\n",
            "Please also refer to the documentation for alternative solver options:\n",
            "    https://scikit-learn.org/stable/modules/linear_model.html#logistic-regression\n",
            "  n_iter_i = _check_optimize_result(\n"
          ]
        }
      ]
    },
    {
      "cell_type": "code",
      "source": [
        "from sklearn.metrics import accuracy_score, classification_report, confusion_matrix\n",
        "import seaborn as sns\n",
        "import matplotlib.pyplot as plt\n",
        "\n",
        "# ==============================\n",
        "# 📌 Evaluate Logistic Regression\n",
        "# ==============================\n",
        "y_pred_lr = log_reg.predict(X_test)\n",
        "\n",
        "print(\"\\n🔹 Logistic Regression Results\")\n",
        "print(\"Accuracy:\", accuracy_score(y_test, y_pred_lr))\n",
        "print(classification_report(y_test, y_pred_lr))\n"
      ],
      "metadata": {
        "colab": {
          "base_uri": "https://localhost:8080/"
        },
        "id": "z8GtgkUzpASL",
        "outputId": "6fe31f84-4aa7-42b4-9890-2a0d368d39f1"
      },
      "execution_count": 12,
      "outputs": [
        {
          "output_type": "stream",
          "name": "stdout",
          "text": [
            "\n",
            "🔹 Logistic Regression Results\n",
            "Accuracy: 0.45209302325581396\n",
            "                       precision    recall  f1-score   support\n",
            "\n",
            "              Drought       0.99      0.99      0.99       154\n",
            "           Earthquake       0.80      0.01      0.03       309\n",
            "             Epidemic       0.15      0.01      0.02       300\n",
            " Extreme temperature        0.00      0.00      0.00       121\n",
            "                Flood       0.52      0.70      0.60      1110\n",
            "Glacial lake outburst       0.00      0.00      0.00         1\n",
            "   Insect infestation       0.00      0.00      0.00        19\n",
            "            Landslide       0.00      0.00      0.00       155\n",
            "  Mass movement (dry)       0.00      0.00      0.00        10\n",
            "                Storm       0.33      0.58      0.42       899\n",
            "    Volcanic activity       0.00      0.00      0.00        53\n",
            "             Wildfire       0.00      0.00      0.00        94\n",
            "\n",
            "             accuracy                           0.45      3225\n",
            "            macro avg       0.23      0.19      0.17      3225\n",
            "         weighted avg       0.41      0.45      0.38      3225\n",
            "\n"
          ]
        },
        {
          "output_type": "stream",
          "name": "stderr",
          "text": [
            "/usr/local/lib/python3.12/dist-packages/sklearn/metrics/_classification.py:1565: UndefinedMetricWarning: Precision is ill-defined and being set to 0.0 in labels with no predicted samples. Use `zero_division` parameter to control this behavior.\n",
            "  _warn_prf(average, modifier, f\"{metric.capitalize()} is\", len(result))\n",
            "/usr/local/lib/python3.12/dist-packages/sklearn/metrics/_classification.py:1565: UndefinedMetricWarning: Precision is ill-defined and being set to 0.0 in labels with no predicted samples. Use `zero_division` parameter to control this behavior.\n",
            "  _warn_prf(average, modifier, f\"{metric.capitalize()} is\", len(result))\n",
            "/usr/local/lib/python3.12/dist-packages/sklearn/metrics/_classification.py:1565: UndefinedMetricWarning: Precision is ill-defined and being set to 0.0 in labels with no predicted samples. Use `zero_division` parameter to control this behavior.\n",
            "  _warn_prf(average, modifier, f\"{metric.capitalize()} is\", len(result))\n"
          ]
        }
      ]
    },
    {
      "cell_type": "markdown",
      "source": [
        "**📌 Model 2: Random Forest Classifier**"
      ],
      "metadata": {
        "id": "zCSFWSTdrE-t"
      }
    },
    {
      "cell_type": "code",
      "source": [
        "rf = RandomForestClassifier(n_estimators=200, random_state=42)\n",
        "rf.fit(X_train, y_train)\n",
        "y_pred_rf = rf.predict(X_test)\n",
        "\n",
        "print(\"\\n🔹 Random Forest Results:\")\n",
        "print(\"Accuracy:\", accuracy_score(y_test, y_pred_rf))\n",
        "print(classification_report(y_test, y_pred_rf))\n",
        "\n",
        "# Confusion Matrix\n",
        "plt.figure(figsize=(8,6))\n",
        "sns.heatmap(confusion_matrix(y_test, y_pred_rf), annot=True, fmt=\"d\", cmap=\"Blues\")\n",
        "plt.title(\"Confusion Matrix - Random Forest\")\n",
        "plt.xlabel(\"Predicted\")\n",
        "plt.ylabel(\"Actual\")\n",
        "plt.show()"
      ],
      "metadata": {
        "id": "dt87OCGdSOmr",
        "colab": {
          "base_uri": "https://localhost:8080/",
          "height": 1000
        },
        "outputId": "f8f65b27-0c0c-4eee-e755-38384ff1a597"
      },
      "execution_count": 13,
      "outputs": [
        {
          "output_type": "stream",
          "name": "stdout",
          "text": [
            "\n",
            "🔹 Random Forest Results:\n",
            "Accuracy: 0.9934883720930232\n",
            "                       precision    recall  f1-score   support\n",
            "\n",
            "              Drought       1.00      1.00      1.00       154\n",
            "           Earthquake       1.00      1.00      1.00       309\n",
            "             Epidemic       1.00      1.00      1.00       300\n",
            " Extreme temperature        1.00      1.00      1.00       121\n",
            "                Flood       0.99      1.00      0.99      1110\n",
            "Glacial lake outburst       0.00      0.00      0.00         1\n",
            "   Insect infestation       1.00      0.95      0.97        19\n",
            "            Landslide       0.99      0.90      0.94       155\n",
            "  Mass movement (dry)       1.00      0.80      0.89        10\n",
            "                Storm       1.00      1.00      1.00       899\n",
            "    Volcanic activity       1.00      1.00      1.00        53\n",
            "             Wildfire       0.97      1.00      0.98        94\n",
            "\n",
            "             accuracy                           0.99      3225\n",
            "            macro avg       0.91      0.89      0.90      3225\n",
            "         weighted avg       0.99      0.99      0.99      3225\n",
            "\n"
          ]
        },
        {
          "output_type": "stream",
          "name": "stderr",
          "text": [
            "/usr/local/lib/python3.12/dist-packages/sklearn/metrics/_classification.py:1565: UndefinedMetricWarning: Precision is ill-defined and being set to 0.0 in labels with no predicted samples. Use `zero_division` parameter to control this behavior.\n",
            "  _warn_prf(average, modifier, f\"{metric.capitalize()} is\", len(result))\n",
            "/usr/local/lib/python3.12/dist-packages/sklearn/metrics/_classification.py:1565: UndefinedMetricWarning: Precision is ill-defined and being set to 0.0 in labels with no predicted samples. Use `zero_division` parameter to control this behavior.\n",
            "  _warn_prf(average, modifier, f\"{metric.capitalize()} is\", len(result))\n",
            "/usr/local/lib/python3.12/dist-packages/sklearn/metrics/_classification.py:1565: UndefinedMetricWarning: Precision is ill-defined and being set to 0.0 in labels with no predicted samples. Use `zero_division` parameter to control this behavior.\n",
            "  _warn_prf(average, modifier, f\"{metric.capitalize()} is\", len(result))\n"
          ]
        },
        {
          "output_type": "display_data",
          "data": {
            "text/plain": [
              "<Figure size 800x600 with 2 Axes>"
            ],
            "image/png": "[encoded data removed]"
          },
          "metadata": {}
        }
      ]
    },
    {
      "cell_type": "markdown",
      "source": [
        "**📌 Model 3: Support Vector Machine (SVM)**"
      ],
      "metadata": {
        "id": "gI3qvDCrrIRK"
      }
    },
    {
      "cell_type": "code",
      "source": [
        "from sklearn.svm import LinearSVC\n",
        "\n",
        "svm = LinearSVC(max_iter=5000)\n",
        "svm.fit(X_train, y_train)\n",
        "y_pred_svm = svm.predict(X_test)\n",
        "print(\"\\n🔹 SVM Results\")\n",
        "print(\"Accuracy:\", accuracy_score(y_test, y_pred_svm))\n",
        "print(classification_report(y_test, y_pred_svm))\n"
      ],
      "metadata": {
        "colab": {
          "base_uri": "https://localhost:8080/"
        },
        "id": "P9XkD6QpyHTg",
        "outputId": "d813392b-5fde-4c58-ac9e-87736f98c253"
      },
      "execution_count": 14,
      "outputs": [
        {
          "output_type": "stream",
          "name": "stdout",
          "text": [
            "\n",
            "🔹 SVM Results\n",
            "Accuracy: 0.6155038759689923\n",
            "                       precision    recall  f1-score   support\n",
            "\n",
            "              Drought       1.00      1.00      1.00       154\n",
            "           Earthquake       0.92      0.89      0.90       309\n",
            "             Epidemic       0.40      0.02      0.04       300\n",
            " Extreme temperature        1.00      0.11      0.19       121\n",
            "                Flood       0.56      0.84      0.67      1110\n",
            "Glacial lake outburst       0.00      0.00      0.00         1\n",
            "   Insect infestation       0.00      0.00      0.00        19\n",
            "            Landslide       0.00      0.00      0.00       155\n",
            "  Mass movement (dry)       0.00      0.00      0.00        10\n",
            "                Storm       0.56      0.67      0.61       899\n",
            "    Volcanic activity       0.00      0.00      0.00        53\n",
            "             Wildfire       0.00      0.00      0.00        94\n",
            "\n",
            "             accuracy                           0.62      3225\n",
            "            macro avg       0.37      0.29      0.28      3225\n",
            "         weighted avg       0.56      0.62      0.55      3225\n",
            "\n"
          ]
        },
        {
          "output_type": "stream",
          "name": "stderr",
          "text": [
            "/usr/local/lib/python3.12/dist-packages/sklearn/svm/_base.py:1249: ConvergenceWarning: Liblinear failed to converge, increase the number of iterations.\n",
            "  warnings.warn(\n",
            "/usr/local/lib/python3.12/dist-packages/sklearn/metrics/_classification.py:1565: UndefinedMetricWarning: Precision is ill-defined and being set to 0.0 in labels with no predicted samples. Use `zero_division` parameter to control this behavior.\n",
            "  _warn_prf(average, modifier, f\"{metric.capitalize()} is\", len(result))\n",
            "/usr/local/lib/python3.12/dist-packages/sklearn/metrics/_classification.py:1565: UndefinedMetricWarning: Precision is ill-defined and being set to 0.0 in labels with no predicted samples. Use `zero_division` parameter to control this behavior.\n",
            "  _warn_prf(average, modifier, f\"{metric.capitalize()} is\", len(result))\n",
            "/usr/local/lib/python3.12/dist-packages/sklearn/metrics/_classification.py:1565: UndefinedMetricWarning: Precision is ill-defined and being set to 0.0 in labels with no predicted samples. Use `zero_division` parameter to control this behavior.\n",
            "  _warn_prf(average, modifier, f\"{metric.capitalize()} is\", len(result))\n"
          ]
        }
      ]
    },
    {
      "cell_type": "code",
      "source": [
        "# ==============================\n",
        "# 📊 Compare Model Accuracies\n",
        "# ==============================\n",
        "\n",
        "# Store accuracy scores\n",
        "accuracy_scores = {\n",
        "    \"Logistic Regression\": accuracy_score(y_test, y_pred_lr),\n",
        "    \"Random Forest\": accuracy_score(y_test, y_pred_rf),\n",
        "    \"SVM\": accuracy_score(y_test, y_pred_svm)\n",
        "}\n",
        "\n",
        "# Plot bar chart\n",
        "plt.figure(figsize=(8,5))\n",
        "sns.barplot(x=list(accuracy_scores.keys()), y=list(accuracy_scores.values()), palette=\"viridis\")\n",
        "plt.title(\"Model Accuracy Comparison\", fontsize=14)\n",
        "plt.ylabel(\"Accuracy\")\n",
        "plt.ylim(0,1)  # accuracy range between 0–1\n",
        "plt.show()\n",
        "\n",
        "# Print accuracies for reference\n",
        "print(\"✅ Model Accuracies:\")\n",
        "for model, acc in accuracy_scores.items():\n",
        "    print(f\"{model}: {acc:.4f}\")\n"
      ],
      "metadata": {
        "colab": {
          "base_uri": "https://localhost:8080/",
          "height": 625
        },
        "id": "IdO_Zkk743H_",
        "outputId": "69bfeac4-cbcc-4b4e-a1fb-5b1ecab4b077"
      },
      "execution_count": 15,
      "outputs": [
        {
          "output_type": "stream",
          "name": "stderr",
          "text": [
            "/tmp/ipython-input-2376281739.py:14: FutureWarning: \n",
            "\n",
            "Passing `palette` without assigning `hue` is deprecated and will be removed in v0.14.0. Assign the `x` variable to `hue` and set `legend=False` for the same effect.\n",
            "\n",
            "  sns.barplot(x=list(accuracy_scores.keys()), y=list(accuracy_scores.values()), palette=\"viridis\")\n"
          ]
        },
        {
          "output_type": "display_data",
          "data": {
            "text/plain": [
              "<Figure size 800x500 with 1 Axes>"
            ],
            "image/png": "[encoded data removed]"
          },
          "metadata": {}
        },
        {
          "output_type": "stream",
          "name": "stdout",
          "text": [
            "✅ Model Accuracies:\n",
            "Logistic Regression: 0.4521\n",
            "Random Forest: 0.9935\n",
            "SVM: 0.6155\n"
          ]
        }
      ]
    },
    {
      "cell_type": "code",
      "source": [
        "from sklearn.metrics import confusion_matrix\n",
        "\n",
        "# ==============================\n",
        "# 📊 Confusion Matrices for all models\n",
        "# ==============================\n",
        "models = {\n",
        "    \"Logistic Regression\": y_pred_lr,\n",
        "    \"Random Forest\": y_pred_rf,\n",
        "    \"SVM\": y_pred_svm\n",
        "}\n",
        "\n",
        "plt.figure(figsize=(18,5))\n",
        "\n",
        "for i, (name, preds) in enumerate(models.items(), 1):\n",
        "    cm = confusion_matrix(y_test, preds)\n",
        "    plt.subplot(1, 3, i)\n",
        "    sns.heatmap(cm, annot=True, fmt=\"d\", cmap=\"Blues\", cbar=False)\n",
        "    plt.title(f\"{name} Confusion Matrix\")\n",
        "    plt.xlabel(\"Predicted\")\n",
        "    plt.ylabel(\"Actual\")\n",
        "\n",
        "plt.tight_layout()\n",
        "plt.show()\n"
      ],
      "metadata": {
        "colab": {
          "base_uri": "https://localhost:8080/",
          "height": 527
        },
        "id": "y3BAHLSQ5GQe",
        "outputId": "ffea5640-846a-4b46-9bba-1857bccc31b7"
      },
      "execution_count": 16,
      "outputs": [
        {
          "output_type": "display_data",
          "data": {
            "text/plain": [
              "<Figure size 1800x500 with 3 Axes>"
            ],
            "image/png": "[encoded data removed]"
          },
          "metadata": {}
        }
      ]
    },
    {
      "cell_type": "markdown",
      "source": [
        "## ✅ Week 3 Summary – Predictive Modeling  \n",
        "\n",
        "In Week 3, the focus shifted from data exploration (Week 2) to applying **machine learning models** for disaster type prediction.  \n",
        "The following tasks were completed:  \n",
        "\n",
        "1. **Model Training**  \n",
        "   - Implemented multiple ML models:  \n",
        "     - Logistic Regression  \n",
        "     - Random Forest Classifier  \n",
        "     - Support Vector Machine (SVM / LinearSVC for faster training)  \n",
        "\n",
        "2. **Evaluation**  \n",
        "   - Measured **Accuracy, Precision, Recall, and F1-Score**.  \n",
        "   - Plotted **Confusion Matrices** to visualize model performance.  \n",
        "   - Random Forest achieved the **best accuracy** among tested models.  \n",
        "\n",
        "3. **Outcome**  \n",
        "   - Established a **baseline predictive modeling pipeline**.  \n",
        "   - Confirmed that ML can classify disaster types with promising accuracy.  \n",
        "   - Prepared ground for **Week 4 optimization & deployment**.  \n",
        "\n",
        "📊 **Key Learning:** Successfully transitioned from cleaned and prepared data (Week 2) to applying predictive models, with Random Forest emerging as the strongest performer.  \n"
      ],
      "metadata": {
        "id": "88bkVjp7A2iQ"
      }
    }
  ]
}